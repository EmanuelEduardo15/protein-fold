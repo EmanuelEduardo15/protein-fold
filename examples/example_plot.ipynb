import matplotlib.pyplot as plt  
kappa = np.load("examples/ubiquitin_kappa.npy")  
plt.plot(kappa, label='Curvatura Otimizada')  
plt.xlabel("Resíduo")  
plt.ylabel("κ (nm⁻¹)")  
plt.show()
